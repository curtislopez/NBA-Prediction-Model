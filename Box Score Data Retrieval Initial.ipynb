{
 "cells": [
  {
   "cell_type": "markdown",
   "metadata": {},
   "source": [
    "# NBA Data Box Score Pull! (Initial)\n",
    "\n",
    "Goal: Get baseline boxscore df to be added on by a 'recurring' data pull script\n",
    "\n",
    "<p style=\"text-align: right;\">Curtis L.</p>"
   ]
  },
  {
   "cell_type": "code",
   "execution_count": 23,
   "metadata": {},
   "outputs": [],
   "source": [
    "# import modules n shit\n",
    "import time\n",
    "import pickle\n",
    "import pandas as pd\n",
    "from nba_api.stats.endpoints import leaguegamelog"
   ]
  },
  {
   "cell_type": "markdown",
   "metadata": {},
   "source": [
    "Most boxscores are held in leaguegamelog, but I only cared about regular season games and playoff games.  I think the last time this was updated was 2 years ago, so I don't believe in-season tournament is an option"
   ]
  },
  {
   "cell_type": "code",
   "execution_count": 24,
   "metadata": {},
   "outputs": [
    {
     "name": "stdout",
     "output_type": "stream",
     "text": [
      "2020 season captured\n",
      "2021 season captured\n",
      "2022 season captured\n",
      "2023 season captured\n",
      "2024 season captured\n"
     ]
    },
    {
     "name": "stderr",
     "output_type": "stream",
     "text": [
      "C:\\Users\\Yup\\AppData\\Local\\Temp\\ipykernel_1464\\1717259233.py:18: FutureWarning: The behavior of DataFrame concatenation with empty or all-NA entries is deprecated. In a future version, this will no longer exclude empty or all-NA columns when determining the result dtypes. To retain the old behavior, exclude the relevant entries before the concat operation.\n",
      "  df = pd.concat([df, temp], ignore_index=True)\n",
      "C:\\Users\\Yup\\AppData\\Local\\Temp\\ipykernel_1464\\1717259233.py:28: FutureWarning: The behavior of DataFrame concatenation with empty or all-NA entries is deprecated. In a future version, this will no longer exclude empty or all-NA columns when determining the result dtypes. To retain the old behavior, exclude the relevant entries before the concat operation.\n",
      "  df = pd.concat([df, temp], ignore_index=True)\n"
     ]
    },
    {
     "name": "stdout",
     "output_type": "stream",
     "text": [
      "2025 season captured\n"
     ]
    }
   ],
   "source": [
    "# establish seasons to request\n",
    "current_year = pd.Timestamp.today().year\n",
    "years = [i for i in range(2020, current_year+1)]\n",
    "\n",
    "# set up an empty dataframe\n",
    "df = pd.DataFrame()\n",
    "games = set()\n",
    "\n",
    "# loop through every year - the 2020-2021 season is notated as 2020\n",
    "for year in years:\n",
    "    # get box scores for regular season\n",
    "    logs = leaguegamelog.LeagueGameLog(\n",
    "        season=year,\n",
    "        season_type_all_star='Regular Season'\n",
    "        )\n",
    "    temp = logs.get_data_frames()[0]\n",
    "    temp['Game_Type'] = 'Regular Season'\n",
    "    df = pd.concat([df, temp], ignore_index=True)\n",
    "    time.sleep(0.6) # attempt to not time out\n",
    "\n",
    "    # get box scores for playoffs\n",
    "    logs = leaguegamelog.LeagueGameLog(\n",
    "        season=year,\n",
    "        season_type_all_star='Playoffs'\n",
    "        )\n",
    "    temp = logs.get_data_frames()[0]\n",
    "    temp['Game_Type'] = 'Playoffs'\n",
    "    df = pd.concat([df, temp], ignore_index=True)\n",
    "    time.sleep(0.6) # attempt to not time out\n",
    "    print(f'{year} season captured')"
   ]
  },
  {
   "cell_type": "code",
   "execution_count": 25,
   "metadata": {},
   "outputs": [],
   "source": [
    "df['GAME_DATE'] = pd.to_datetime(df['GAME_DATE'])\n",
    "df.to_pickle(\"nba_game_logs.pkl\")"
   ]
  }
 ],
 "metadata": {
  "kernelspec": {
   "display_name": "Python 3",
   "language": "python",
   "name": "python3"
  },
  "language_info": {
   "codemirror_mode": {
    "name": "ipython",
    "version": 3
   },
   "file_extension": ".py",
   "mimetype": "text/x-python",
   "name": "python",
   "nbconvert_exporter": "python",
   "pygments_lexer": "ipython3",
   "version": "3.13.0"
  }
 },
 "nbformat": 4,
 "nbformat_minor": 2
}
